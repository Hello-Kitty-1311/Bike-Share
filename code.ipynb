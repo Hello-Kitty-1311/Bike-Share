{
  "cells": [
    {
      "cell_type": "markdown",
      "metadata": {
        "id": "p2W2dJQ5YiE8"
      },
      "source": [
        "# Bike Sharing Demand Prediction"
      ]
    },
    {
      "cell_type": "markdown",
      "metadata": {
        "id": "35uy2RLhemUT"
      },
      "source": [
        "# Import Libraries and Setup"
      ]
    },
    {
      "cell_type": "code",
      "execution_count": 8,
      "metadata": {
        "id": "_G8Qsme6TLEu"
      },
      "outputs": [],
      "source": [
        "import pandas as pd\n",
        "import numpy as np\n",
        "import matplotlib.pyplot as plt\n",
        "import seaborn as sns\n",
        "import warnings\n",
        "from sklearn.model_selection import train_test_split, cross_val_score, GridSearchCV, KFold\n",
        "from sklearn.preprocessing import StandardScaler, MinMaxScaler, LabelEncoder, PolynomialFeatures\n",
        "from sklearn.linear_model import LinearRegression, Ridge, Lasso, ElasticNet\n",
        "from sklearn.tree import DecisionTreeRegressor\n",
        "from sklearn.ensemble import RandomForestRegressor, GradientBoostingRegressor, AdaBoostRegressor\n",
        "from sklearn.svm import SVR\n",
        "from sklearn.neural_network import MLPRegressor\n",
        "from sklearn.neighbors import KNeighborsRegressor\n",
        "from sklearn.metrics import mean_squared_error, mean_absolute_error, r2_score\n",
        "from scipy.stats import pearsonr, spearmanr, shapiro, normaltest, anderson\n",
        "from scipy.stats import f_oneway, kruskal\n",
        "from statsmodels.stats.multicomp import MultiComparison\n",
        "import plotly.express as px\n",
        "import plotly.graph_objects as go\n",
        "from plotly.subplots import make_subplots\n",
        "import zipfile\n",
        "import os\n",
        "warnings.filterwarnings('ignore')\n",
        "plt.style.use('seaborn-v0_8')\n",
        "sns.set_palette(\"husl\")\n",
        "np.random.seed(42)"
      ]
    },
    {
      "cell_type": "markdown",
      "metadata": {
        "id": "pO1ih5ske6IU"
      },
      "source": [
        "# Data Loading and Initial Setup"
      ]
    },
    {
      "cell_type": "code",
      "execution_count": 9,
      "metadata": {
        "colab": {
          "base_uri": "https://localhost:8080/"
        },
        "id": "K4zDDy10e7h8",
        "outputId": "2433f74a-82ce-44de-aeff-60c87a55297f"
      },
      "outputs": [
        {
          "name": "stdout",
          "output_type": "stream",
          "text": [
            "Dataset loaded with shape: (731, 16)\n",
            "Features: ['instant', 'dteday', 'season', 'yr', 'mnth', 'holiday', 'weekday', 'workingday', 'weathersit', 'temp', 'atemp', 'hum', 'windspeed', 'casual', 'registered', 'cnt']\n",
            "Target variable statistics:\n",
            "count     731.000000\n",
            "mean     4504.348837\n",
            "std      1937.211452\n",
            "min        22.000000\n",
            "25%      3152.000000\n",
            "50%      4548.000000\n",
            "75%      5956.000000\n",
            "max      8714.000000\n",
            "Name: cnt, dtype: float64\n"
          ]
        }
      ],
      "source": [
        "url = \"https://archive.ics.uci.edu/ml/machine-learning-databases/00275/Bike-Sharing-Dataset.zip\"\n",
        "zip_path = \"Bike-Sharing-Dataset.zip\"\n",
        "extracted_path = \"Bike-Sharing-Dataset\"\n",
        "\n",
        "if not os.path.exists(zip_path):\n",
        "    import requests\n",
        "    r = requests.get(url, stream=True)\n",
        "    with open(zip_path, \"wb\") as f:\n",
        "        for chunk in r.iter_content(chunk_size=1024):\n",
        "            if chunk:\n",
        "                f.write(chunk)\n",
        "\n",
        "if not os.path.exists(extracted_path):\n",
        "    with zipfile.ZipFile(zip_path, 'r') as zip_ref:\n",
        "        zip_ref.extractall(extracted_path)\n",
        "\n",
        "df_day = pd.read_csv(os.path.join(extracted_path, 'day.csv'))\n",
        "\n",
        "print(f\"Dataset loaded with shape: {df_day.shape}\")\n",
        "print(f\"Features: {list(df_day.columns)}\")\n",
        "print(f\"Target variable statistics:\")\n",
        "print(df_day['cnt'].describe())"
      ]
    }
  ],
  "metadata": {
    "colab": {
      "provenance": []
    },
    "kernelspec": {
      "display_name": "Python 3",
      "name": "python3"
    },
    "language_info": {
      "name": "python"
    }
  },
  "nbformat": 4,
  "nbformat_minor": 0
}
