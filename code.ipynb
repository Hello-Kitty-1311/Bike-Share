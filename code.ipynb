{
  "cells": [
    {
      "cell_type": "markdown",
      "metadata": {
        "id": "p2W2dJQ5YiE8"
      },
      "source": [
        "# Bike Sharing Demand Prediction"
      ]
    },
    {
      "cell_type": "markdown",
      "metadata": {
        "id": "35uy2RLhemUT"
      },
      "source": [
        "# Import Libraries and Setup"
      ]
    },
    {
      "cell_type": "code",
      "execution_count": 8,
      "metadata": {
        "id": "_G8Qsme6TLEu"
      },
      "outputs": [],
      "source": [
        "import pandas as pd\n",
        "import numpy as np\n",
        "import matplotlib.pyplot as plt\n",
        "import seaborn as sns\n",
        "import warnings\n",
        "from sklearn.model_selection import train_test_split, cross_val_score, GridSearchCV, KFold\n",
        "from sklearn.preprocessing import StandardScaler, MinMaxScaler, LabelEncoder, PolynomialFeatures\n",
        "from sklearn.linear_model import LinearRegression, Ridge, Lasso, ElasticNet\n",
        "from sklearn.tree import DecisionTreeRegressor\n",
        "from sklearn.ensemble import RandomForestRegressor, GradientBoostingRegressor, AdaBoostRegressor\n",
        "from sklearn.svm import SVR\n",
        "from sklearn.neural_network import MLPRegressor\n",
        "from sklearn.neighbors import KNeighborsRegressor\n",
        "from sklearn.metrics import mean_squared_error, mean_absolute_error, r2_score\n",
        "from scipy.stats import pearsonr, spearmanr, shapiro, normaltest, anderson\n",
        "from scipy.stats import f_oneway, kruskal\n",
        "from statsmodels.stats.multicomp import MultiComparison\n",
        "import plotly.express as px\n",
        "import plotly.graph_objects as go\n",
        "from plotly.subplots import make_subplots\n",
        "import zipfile\n",
        "import os\n",
        "warnings.filterwarnings('ignore')\n",
        "plt.style.use('seaborn-v0_8')\n",
        "sns.set_palette(\"husl\")\n",
        "np.random.seed(42)"
      ]
    },
    {
      "cell_type": "markdown",
      "metadata": {
        "id": "pO1ih5ske6IU"
      },
      "source": [
        "# Data Loading and Initial Setup"
      ]
    },
    {
      "cell_type": "code",
      "execution_count": 9,
      "metadata": {
        "colab": {
          "base_uri": "https://localhost:8080/"
        },
        "id": "K4zDDy10e7h8",
        "outputId": "2433f74a-82ce-44de-aeff-60c87a55297f"
      },
      "outputs": [
        {
          "name": "stdout",
          "output_type": "stream",
          "text": [
            "Dataset loaded with shape: (731, 16)\n",
            "Features: ['instant', 'dteday', 'season', 'yr', 'mnth', 'holiday', 'weekday', 'workingday', 'weathersit', 'temp', 'atemp', 'hum', 'windspeed', 'casual', 'registered', 'cnt']\n",
            "Target variable statistics:\n",
            "count     731.000000\n",
            "mean     4504.348837\n",
            "std      1937.211452\n",
            "min        22.000000\n",
            "25%      3152.000000\n",
            "50%      4548.000000\n",
            "75%      5956.000000\n",
            "max      8714.000000\n",
            "Name: cnt, dtype: float64\n"
          ]
        }
      ],
      "source": [
        "url = \"https://archive.ics.uci.edu/ml/machine-learning-databases/00275/Bike-Sharing-Dataset.zip\"\n",
        "zip_path = \"Bike-Sharing-Dataset.zip\"\n",
        "extracted_path = \"Bike-Sharing-Dataset\"\n",
        "\n",
        "if not os.path.exists(zip_path):\n",
        "    import requests\n",
        "    r = requests.get(url, stream=True)\n",
        "    with open(zip_path, \"wb\") as f:\n",
        "        for chunk in r.iter_content(chunk_size=1024):\n",
        "            if chunk:\n",
        "                f.write(chunk)\n",
        "\n",
        "if not os.path.exists(extracted_path):\n",
        "    with zipfile.ZipFile(zip_path, 'r') as zip_ref:\n",
        "        zip_ref.extractall(extracted_path)\n",
        "\n",
        "df_day = pd.read_csv(os.path.join(extracted_path, 'day.csv'))\n",
        "\n",
        "print(f\"Dataset loaded with shape: {df_day.shape}\")\n",
        "print(f\"Features: {list(df_day.columns)}\")\n",
        "print(f\"Target variable statistics:\")\n",
        "print(df_day['cnt'].describe())"
      ]
    },
    {
      "cell_type": "markdown",
      "metadata": {
        "id": "eOkg0GCiyMEL"
      },
      "source": [
        "# Data Exploration"
      ]
    },
    {
      "cell_type": "code",
      "execution_count": 10,
      "metadata": {
        "colab": {
          "base_uri": "https://localhost:8080/"
        },
        "id": "KV8sc_nFyNSb",
        "outputId": "cfcbc6f2-f669-4639-e76f-c903260d6d42"
      },
      "outputs": [
        {
          "name": "stdout",
          "output_type": "stream",
          "text": [
            "=== DATASET OVERVIEW ===\n",
            "Dataset Shape: (731, 16)\n",
            "Memory Usage: 0.13 MB\n",
            "Data Types:\n",
            "instant         int64\n",
            "dteday         object\n",
            "season          int64\n",
            "yr              int64\n",
            "mnth            int64\n",
            "holiday         int64\n",
            "weekday         int64\n",
            "workingday      int64\n",
            "weathersit      int64\n",
            "temp          float64\n",
            "atemp         float64\n",
            "hum           float64\n",
            "windspeed     float64\n",
            "casual          int64\n",
            "registered      int64\n",
            "cnt             int64\n",
            "dtype: object\n",
            "\n",
            "=== MISSING VALUES ===\n",
            "instant       0\n",
            "dteday        0\n",
            "season        0\n",
            "yr            0\n",
            "mnth          0\n",
            "holiday       0\n",
            "weekday       0\n",
            "workingday    0\n",
            "weathersit    0\n",
            "temp          0\n",
            "atemp         0\n",
            "hum           0\n",
            "windspeed     0\n",
            "casual        0\n",
            "registered    0\n",
            "cnt           0\n",
            "dtype: int64\n",
            "\n",
            "=== DUPLICATE ROWS ===\n",
            "Number of duplicates: 0\n",
            "\n",
            "=== BASIC STATISTICS ===\n",
            "          instant      season          yr        mnth     holiday     weekday  \\\n",
            "count  731.000000  731.000000  731.000000  731.000000  731.000000  731.000000   \n",
            "mean   366.000000    2.496580    0.500684    6.519836    0.028728    2.997264   \n",
            "std    211.165812    1.110807    0.500342    3.451913    0.167155    2.004787   \n",
            "min      1.000000    1.000000    0.000000    1.000000    0.000000    0.000000   \n",
            "25%    183.500000    2.000000    0.000000    4.000000    0.000000    1.000000   \n",
            "50%    366.000000    3.000000    1.000000    7.000000    0.000000    3.000000   \n",
            "75%    548.500000    3.000000    1.000000   10.000000    0.000000    5.000000   \n",
            "max    731.000000    4.000000    1.000000   12.000000    1.000000    6.000000   \n",
            "\n",
            "       workingday  weathersit        temp       atemp         hum   windspeed  \\\n",
            "count  731.000000  731.000000  731.000000  731.000000  731.000000  731.000000   \n",
            "mean     0.683995    1.395349    0.495385    0.474354    0.627894    0.190486   \n",
            "std      0.465233    0.544894    0.183051    0.162961    0.142429    0.077498   \n",
            "min      0.000000    1.000000    0.059130    0.079070    0.000000    0.022392   \n",
            "25%      0.000000    1.000000    0.337083    0.337842    0.520000    0.134950   \n",
            "50%      1.000000    1.000000    0.498333    0.486733    0.626667    0.180975   \n",
            "75%      1.000000    2.000000    0.655417    0.608602    0.730209    0.233214   \n",
            "max      1.000000    3.000000    0.861667    0.840896    0.972500    0.507463   \n",
            "\n",
            "            casual   registered          cnt  \n",
            "count   731.000000   731.000000   731.000000  \n",
            "mean    848.176471  3656.172367  4504.348837  \n",
            "std     686.622488  1560.256377  1937.211452  \n",
            "min       2.000000    20.000000    22.000000  \n",
            "25%     315.500000  2497.000000  3152.000000  \n",
            "50%     713.000000  3662.000000  4548.000000  \n",
            "75%    1096.000000  4776.500000  5956.000000  \n",
            "max    3410.000000  6946.000000  8714.000000  \n",
            "\n",
            "=== CATEGORICAL VARIABLES DISTRIBUTION ===\n",
            "\n",
            "SEASON:\n",
            "season\n",
            "1    181\n",
            "2    184\n",
            "3    188\n",
            "4    178\n",
            "Name: count, dtype: int64\n",
            "\n",
            "YR:\n",
            "yr\n",
            "0    365\n",
            "1    366\n",
            "Name: count, dtype: int64\n",
            "\n",
            "MNTH:\n",
            "mnth\n",
            "1     62\n",
            "2     57\n",
            "3     62\n",
            "4     60\n",
            "5     62\n",
            "6     60\n",
            "7     62\n",
            "8     62\n",
            "9     60\n",
            "10    62\n",
            "11    60\n",
            "12    62\n",
            "Name: count, dtype: int64\n",
            "\n",
            "WEEKDAY:\n",
            "weekday\n",
            "0    105\n",
            "1    105\n",
            "2    104\n",
            "3    104\n",
            "4    104\n",
            "5    104\n",
            "6    105\n",
            "Name: count, dtype: int64\n",
            "\n",
            "WORKINGDAY:\n",
            "workingday\n",
            "0    231\n",
            "1    500\n",
            "Name: count, dtype: int64\n",
            "\n",
            "HOLIDAY:\n",
            "holiday\n",
            "0    710\n",
            "1     21\n",
            "Name: count, dtype: int64\n",
            "\n",
            "WEATHERSIT:\n",
            "weathersit\n",
            "1    463\n",
            "2    247\n",
            "3     21\n",
            "Name: count, dtype: int64\n",
            "\n",
            "=== TARGET VARIABLE ANALYSIS ===\n",
            "Count Range: 22 - 8714\n",
            "Count Mean: 4504.35\n",
            "Count Std: 1937.21\n",
            "Count Skewness: -0.047\n",
            "Count Kurtosis: -0.812\n"
          ]
        }
      ],
      "source": [
        "print(\"=== DATASET OVERVIEW ===\")\n",
        "print(f\"Dataset Shape: {df_day.shape}\")\n",
        "print(f\"Memory Usage: {df_day.memory_usage(deep=True).sum() / 1024**2:.2f} MB\")\n",
        "print(f\"Data Types:\\n{df_day.dtypes}\")\n",
        "print(f\"\\n=== MISSING VALUES ===\")\n",
        "print(df_day.isnull().sum())\n",
        "print(f\"\\n=== DUPLICATE ROWS ===\")\n",
        "print(f\"Number of duplicates: {df_day.duplicated().sum()}\")\n",
        "print(f\"\\n=== BASIC STATISTICS ===\")\n",
        "print(df_day.describe())\n",
        "print(f\"\\n=== CATEGORICAL VARIABLES DISTRIBUTION ===\")\n",
        "categorical_cols = ['season', 'yr', 'mnth', 'weekday', 'workingday', 'holiday', 'weathersit']\n",
        "for col in categorical_cols:\n",
        "    print(f\"\\n{col.upper()}:\")\n",
        "    print(df_day[col].value_counts().sort_index())\n",
        "print(f\"\\n=== TARGET VARIABLE ANALYSIS ===\")\n",
        "print(f\"Count Range: {df_day['cnt'].min()} - {df_day['cnt'].max()}\")\n",
        "print(f\"Count Mean: {df_day['cnt'].mean():.2f}\")\n",
        "print(f\"Count Std: {df_day['cnt'].std():.2f}\")\n",
        "print(f\"Count Skewness: {df_day['cnt'].skew():.3f}\")\n",
        "print(f\"Count Kurtosis: {df_day['cnt'].kurtosis():.3f}\")"
      ]
    }
  ],
  "metadata": {
    "colab": {
      "provenance": []
    },
    "kernelspec": {
      "display_name": "Python 3",
      "name": "python3"
    },
    "language_info": {
      "name": "python"
    }
  },
  "nbformat": 4,
  "nbformat_minor": 0
}
